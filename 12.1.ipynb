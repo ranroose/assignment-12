{
 "cells": [
  {
   "cell_type": "code",
   "execution_count": 2,
   "id": "9b56acf8-1f0b-4b30-86bd-0b7f6085fa3d",
   "metadata": {
    "tags": []
   },
   "outputs": [
    {
     "name": "stdout",
     "output_type": "stream",
     "text": [
      "Number of .png images found is: 29\n",
      "First .png image URL: https://gsom.spbu.ru/templates/gsom/img/favicon.png\n",
      "Image saved as: favicon.png\n"
     ]
    }
   ],
   "source": [
    "import requests\n",
    "import re\n",
    "import os\n",
    "\n",
    "url = 'https://gsom.spbu.ru/en/'\n",
    "response = requests.get(url)\n",
    "\n",
    "if response.status_code == 200:\n",
    "    content = response.content.decode('utf-8')\n",
    "     # 2. Count how many links to .png images the webpage has\n",
    "png_count = content.count('.png')\n",
    "print(f\"Number of .png images found is: {png_count}\")\n",
    "\n",
    "png_match = re.search(r'\\/[^\\'\" ]+\\.png', content)\n",
    "\n",
    "if png_match:\n",
    "    png_path = png_match.group(0)\n",
    "    png_url = 'https://gsom.spbu.ru' + png_path\n",
    "    print(f\"First .png image URL: {png_url}\")\n",
    "\n",
    "img_response = requests.get(png_url)\n",
    "\n",
    "if img_response.status_code == 200:\n",
    "\n",
    "    img_name = os.path.basename(png_url)\n",
    "    \n",
    "\n",
    "    with open(img_name, 'wb') as img_file:\n",
    "        img_file.write(img_response.content)\n",
    "    print(f\"Image saved as: {img_name}\")\n",
    "else:\n",
    "    print(\"Failed to download the image.\")"
   ]
  }
 ],
 "metadata": {
  "kernelspec": {
   "display_name": "Python 3 (ipykernel)",
   "language": "python",
   "name": "python3"
  },
  "language_info": {
   "codemirror_mode": {
    "name": "ipython",
    "version": 3
   },
   "file_extension": ".py",
   "mimetype": "text/x-python",
   "name": "python",
   "nbconvert_exporter": "python",
   "pygments_lexer": "ipython3",
   "version": "3.10.9"
  }
 },
 "nbformat": 4,
 "nbformat_minor": 5
}
